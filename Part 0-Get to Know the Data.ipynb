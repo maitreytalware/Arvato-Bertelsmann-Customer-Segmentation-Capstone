{
 "cells": [
  {
   "cell_type": "markdown",
   "metadata": {},
   "source": [
    "# Part 0: Get to Know the Data\n",
    "\n",
    "There are four data files associated with this project:\n",
    "\n",
    "- `Udacity_AZDIAS_052018.csv`: Demographics data for the general population of Germany; 891 211 persons (rows) x 366 features (columns).\n",
    "- `Udacity_CUSTOMERS_052018.csv`: Demographics data for customers of a mail-order company; 191 652 persons (rows) x 369 features (columns).\n",
    "- `Udacity_MAILOUT_052018_TRAIN.csv`: Demographics data for individuals who were targets of a marketing campaign; 42 982 persons (rows) x 367 (columns).\n",
    "- `Udacity_MAILOUT_052018_TEST.csv`: Demographics data for individuals who were targets of a marketing campaign; 42 833 persons (rows) x 366 (columns).\n",
    "\n",
    "Each row of the demographics files represents a single person, but also includes information outside of individuals, including information about their household, building, and neighborhood. Use the information from the first two files to figure out how customers (\"CUSTOMERS\") are similar to or differ from the general population at large (\"AZDIAS\"), then use your analysis to make predictions on the other two files (\"MAILOUT\"), predicting which recipients are most likely to become a customer for the mail-order company.\n",
    "\n",
    "The \"CUSTOMERS\" file contains three extra columns ('CUSTOMER_GROUP', 'ONLINE_PURCHASE', and 'PRODUCT_GROUP'), which provide broad information about the customers depicted in the file. The original \"MAILOUT\" file included one additional column, \"RESPONSE\", which indicated whether or not each recipient became a customer of the company. For the \"TRAIN\" subset, this column has been retained, but in the \"TEST\" subset it has been removed; it is against that withheld column that your final predictions will be assessed in the Kaggle competition.\n",
    "\n",
    "Otherwise, all of the remaining columns are the same between the three data files. For more information about the columns depicted in the files, you can refer to two Excel spreadsheets provided in the workspace. [One of them](./DIAS Information Levels - Attributes 2017.xlsx) is a top-level list of attributes and descriptions, organized by informational category. [The other](./DIAS Attributes - Values 2017.xlsx) is a detailed mapping of data values for each feature in alphabetical order.\n",
    "\n",
    "In the below cell, we've provided some initial code to load in the first two datasets. Note for all of the `.csv` data files in this project that they're semicolon (`;`) delimited, so an additional argument in the [`read_csv()`](https://pandas.pydata.org/pandas-docs/stable/generated/pandas.read_csv.html) call has been included to read in the data properly. Also, considering the size of the datasets, it may take some time for them to load completely.\n",
    "\n",
    "You'll notice when the data is loaded in that a warning message will immediately pop up. Before you really start digging into the modeling and analysis, you're going to need to perform some cleaning. Take some time to browse the structure of the data and look over the informational spreadsheets to understand the data values. Make some decisions on which features to keep, which features to drop, and if any revisions need to be made on data formats. It'll be a good idea to create a function with pre-processing steps, since you'll need to clean all of the datasets before you work with them."
   ]
  },
  {
   "cell_type": "markdown",
   "metadata": {},
   "source": [
    "# 1. Importing libraries and Data"
   ]
  },
  {
   "cell_type": "code",
   "execution_count": null,
   "metadata": {},
   "outputs": [],
   "source": [
    "# import libraries here; add more as necessary\n",
    "import numpy as np\n",
    "import pandas as pd\n",
    "import matplotlib.pyplot as plt\n",
    "import seaborn as sns\n",
    "\n",
    "# magic word for producing visualizations in notebook\n",
    "%matplotlib inline"
   ]
  },
  {
   "cell_type": "code",
   "execution_count": null,
   "metadata": {},
   "outputs": [],
   "source": [
    "azdias = pd.read_csv('Udacity_AZDIAS_052018.csv', sep=';')\n",
    "customers = pd.read_csv('Udacity_CUSTOMERS_052018.csv', sep=';')\n",
    "customers=customers.drop(['PRODUCT_GROUP','CUSTOMER_GROUP','ONLINE_PURCHASE'],axis=1)"
   ]
  },
  {
   "cell_type": "code",
   "execution_count": null,
   "metadata": {},
   "outputs": [],
   "source": [
    "# As per error need to check this columns for incosistency, handled in data preprocessing step\n",
    "azdias.columns[18:20]"
   ]
  },
  {
   "cell_type": "markdown",
   "metadata": {},
   "source": [
    "### Top 3 rows of azdias and customer"
   ]
  },
  {
   "cell_type": "code",
   "execution_count": null,
   "metadata": {},
   "outputs": [],
   "source": [
    "print(\"shape of azdias dataset\",azdias.shape)\n",
    "azdias.head(3)"
   ]
  },
  {
   "cell_type": "code",
   "execution_count": null,
   "metadata": {},
   "outputs": [],
   "source": [
    "print(\"shape of customers dataset\",customers.shape)\n",
    "customers.head(3)"
   ]
  },
  {
   "cell_type": "markdown",
   "metadata": {},
   "source": [
    "# 2. Exploratory Data Analysis"
   ]
  },
  {
   "cell_type": "markdown",
   "metadata": {},
   "source": [
    "## 2.1 Descriptive Statistics"
   ]
  },
  {
   "cell_type": "code",
   "execution_count": null,
   "metadata": {},
   "outputs": [],
   "source": [
    "azdias.describe()"
   ]
  },
  {
   "cell_type": "code",
   "execution_count": null,
   "metadata": {},
   "outputs": [],
   "source": [
    "customers.describe()"
   ]
  },
  {
   "cell_type": "markdown",
   "metadata": {},
   "source": [
    "## 2.2 Missing Values"
   ]
  },
  {
   "cell_type": "markdown",
   "metadata": {},
   "source": [
    "#### Earlier we can saw a lot of columns with NaN values. Let explore more about the missing values"
   ]
  },
  {
   "cell_type": "code",
   "execution_count": null,
   "metadata": {},
   "outputs": [],
   "source": [
    "# creating a dataframe to get count/percentage of missing values in azdias and customers\n",
    "azdias_nan=pd.DataFrame(azdias.isna().sum(axis=0)).reset_index()\n",
    "azdias_nan.columns=['column','azdias_nan']\n",
    "azdias_nan['azdiaz_nan_percent']=(azdias_nan['azdias_nan']/len(azdias))*100\n",
    "\n",
    "customers_nan=pd.DataFrame(customers.isna().sum(axis=0)).reset_index()\n",
    "customers_nan.columns=['column','customers_nan']\n",
    "customers_nan['customer_nan_percent']=(customers_nan['customers_nan']/len(customers))*100\n",
    "missing_values=pd.merge(azdias_nan, customers_nan, on='column')\n",
    "missing_values=missing_values.sort_values(by=['azdias_nan','customers_nan'],ascending=[False,False])\n",
    "missing_values"
   ]
  },
  {
   "cell_type": "markdown",
   "metadata": {},
   "source": [
    "#### Ploting group barchart"
   ]
  },
  {
   "cell_type": "code",
   "execution_count": null,
   "metadata": {},
   "outputs": [],
   "source": [
    "plt.figure(figsize=(20,8))\n",
    "# set width of bar\n",
    "barWidth = 0.25\n",
    "# set height of bar\n",
    "bars1 = missing_values['azdiaz_nan_percent'][:10]\n",
    "bars2 = missing_values['customer_nan_percent'][:10]\n",
    "label=missing_values['column'][:10]\n",
    "# Set position of bar on X axis\n",
    "r1 = np.arange(len(bars1))\n",
    "r2 = [x + barWidth for x in r1]\n",
    " \n",
    "# Make the plot\n",
    "plt.bar(r1, bars1, width=barWidth, edgecolor='white')\n",
    "plt.bar(r2, bars2, width=barWidth, edgecolor='white')\n",
    "\n",
    " \n",
    "# Add xticks on the middle of the group bars\n",
    "plt.xlabel('columns')\n",
    "plt.ylabel('Percentage')\n",
    "plt.xticks([r + barWidth/2 for r in range(len(bars1))], label,rotation=50)\n",
    " \n",
    "# Create legend & Show graphic\n",
    "plt.title('Percentage of missing values sorted - columns wise')\n",
    "plt.legend(['azdiaz_nan_percent','customer_nan_percent'],prop={'size': 12})\n",
    "plt.show()\n"
   ]
  },
  {
   "cell_type": "markdown",
   "metadata": {},
   "source": [
    "##### we see that these columns have more than 90 % of missing data"
   ]
  },
  {
   "cell_type": "code",
   "execution_count": null,
   "metadata": {},
   "outputs": [],
   "source": [
    "# we will drop these columns, creating a variable to do so\n",
    "drop_cols=list(label[:4])\n",
    "drop_cols"
   ]
  },
  {
   "cell_type": "code",
   "execution_count": null,
   "metadata": {},
   "outputs": [],
   "source": [
    "row_na=pd.DataFrame(azdias.isna().sum(axis=1))\n",
    "row_na.columns=['na_count']\n",
    "row_na['percent_information_retained']=((azdias.shape[1]-row_na['na_count'])/azdias.shape[1])*100\n",
    "row_na"
   ]
  },
  {
   "cell_type": "code",
   "execution_count": null,
   "metadata": {
    "scrolled": false
   },
   "outputs": [],
   "source": [
    "a=np.arange(0,azdias.shape[1])\n",
    "b=a/azdias.shape[1]\n",
    "plt.figure(figsize=(10,8))\n",
    "plt.plot(a,b[::-1])\n",
    "plt.xlabel('Count of missing data')\n",
    "plt.ylabel('Percentage of missing data')\n",
    "plt.title('Data Retention rate with missing value')\n",
    "plt.show()"
   ]
  },
  {
   "cell_type": "markdown",
   "metadata": {},
   "source": [
    "**if a row has 20 missing values it retains 94.26% of data**"
   ]
  },
  {
   "cell_type": "code",
   "execution_count": null,
   "metadata": {},
   "outputs": [],
   "source": [
    "b[::-1][20]"
   ]
  },
  {
   "cell_type": "markdown",
   "metadata": {},
   "source": [
    "#### Distribution of Information retained data"
   ]
  },
  {
   "cell_type": "code",
   "execution_count": null,
   "metadata": {
    "scrolled": false
   },
   "outputs": [],
   "source": [
    "plt.figure(figsize=(16,8))\n",
    "row_na_distribution=row_na.groupby(['percent_information_retained']).count()\n",
    "plt.bar(row_na_distribution.index,row_na_distribution.na_count)\n",
    "plt.xlabel('Percentage of data')\n",
    "plt.ylabel('Count of data')\n",
    "plt.title('Distribution of Data rentention')\n",
    "plt.show()"
   ]
  },
  {
   "cell_type": "markdown",
   "metadata": {},
   "source": [
    "**Observation :** *We can see that majority of samples retains more that 90%*"
   ]
  },
  {
   "cell_type": "markdown",
   "metadata": {},
   "source": [
    "# 3. Data Preprocessing"
   ]
  },
  {
   "cell_type": "markdown",
   "metadata": {},
   "source": [
    "## 3.0 Making data consistent\n",
    "1. Uniforming Numeric Data type from float and int to only int as in documentation\n",
    "2. Next we need to check if data present in dataset is as per DIAS Attribute values"
   ]
  },
  {
   "cell_type": "markdown",
   "metadata": {},
   "source": [
    "### 3.0.1 Uniforming Numeric Data type from float and int to only int as in documentation"
   ]
  },
  {
   "cell_type": "code",
   "execution_count": null,
   "metadata": {
    "scrolled": true
   },
   "outputs": [],
   "source": [
    "# Getting all numeric columns and categorical columns\n",
    "Numeric_columns=azdias.select_dtypes(include=np.number).columns.tolist()\n",
    "categorical_col=set(azdias.columns).difference(set(Numeric_columns))\n",
    "print(\"Length of Numeric columns\",len(Numeric_columns))\n",
    "print(\"Length of categorical columns\",len(categorical_col))\n",
    "print(\"Categorial columns are\",categorical_col)"
   ]
  },
  {
   "cell_type": "code",
   "execution_count": null,
   "metadata": {},
   "outputs": [],
   "source": [
    "# azdias[Numeric_columns] = azdias[Numeric_columns].astype('Int64')\n",
    "# customers[Numeric_columns] = customers[Numeric_columns].astype('Int64')\n",
    "azdias[Numeric_columns] = azdias[Numeric_columns].apply(pd.to_numeric)\n",
    "customers[Numeric_columns] = customers[Numeric_columns].apply(pd.to_numeric)"
   ]
  },
  {
   "cell_type": "code",
   "execution_count": null,
   "metadata": {},
   "outputs": [],
   "source": [
    "print(\"Azdias\\n\",azdias.dtypes.head())\n",
    "print(\"\\t\")\n",
    "print(\"Customers\\n\",customers.dtypes.head())"
   ]
  },
  {
   "cell_type": "markdown",
   "metadata": {},
   "source": [
    "### 3.0.2 Next we need to check if data present in dataset is as per DIAS Attribute values"
   ]
  },
  {
   "cell_type": "code",
   "execution_count": null,
   "metadata": {},
   "outputs": [],
   "source": [
    "# reading the DIAS Attributes\n",
    "dias_df=pd.read_excel('DIAS Attributes - Values 2017.xlsx',skiprows=1,usecols=['Attribute','Description','Value','Meaning'])\n",
    "dias_df=dias_df.fillna(method='ffill')\n",
    "dias_df.head(6)"
   ]
  },
  {
   "cell_type": "markdown",
   "metadata": {},
   "source": [
    "#### 3.0.2.a Numeric Data check"
   ]
  },
  {
   "cell_type": "code",
   "execution_count": null,
   "metadata": {},
   "outputs": [],
   "source": [
    "# Checking numeric columns first - so taking intersection of common columns\n",
    "Attribute=set(azdias.columns).intersection(dias_df.Attribute).intersection(Numeric_columns)"
   ]
  },
  {
   "cell_type": "code",
   "execution_count": null,
   "metadata": {},
   "outputs": [],
   "source": [
    "inconsistent=[]\n",
    "def consistency_check():\n",
    "    '''\n",
    "    Input:.. \n",
    "    Output:..\n",
    "    Function: \n",
    "        For each attribute checks which values are allowed according to DIAS documentation.\n",
    "        This way we can find out if any attribute has values other than mentioned\n",
    "    Returns:\n",
    "        List of columns we need to check before continuing\n",
    "    '''\n",
    "    for i in Attribute: \n",
    "        #print(\"starting computation for\",i)\n",
    "        try:\n",
    "            con=list(dias_df[dias_df['Attribute']==i]['Value'])\n",
    "            for m in con:\n",
    "                if type(m)==str:\n",
    "                    con.remove(m)\n",
    "                    con=con+list(map(int, m.split(',')))\n",
    "                else:\n",
    "                    pass\n",
    "\n",
    "            if len(set(azdias[i].dropna().unique()).difference(set(con)))==0:\n",
    "                # contains data as per documentation\n",
    "                #print(\"passsed\",i)\n",
    "                pass\n",
    "            else:\n",
    "                print('--------- Failed ---------')\n",
    "                print(i,set(azdias[i].dropna().unique()).difference(set(con)))\n",
    "                inconsistent.append(i)\n",
    "        except:\n",
    "            inconsistent.append(i)\n",
    "    return inconsistent\n",
    "consistency_check()"
   ]
  },
  {
   "cell_type": "markdown",
   "metadata": {},
   "source": [
    "**NOTE**:  Upon checking above columns with the documentaion we have found that these values should not be in the column.\n",
    "I believe that {0} and {6} have been added to dataset value for that column is unknown. So, we will moving forward with this consideration in mind\n"
   ]
  },
  {
   "cell_type": "markdown",
   "metadata": {},
   "source": [
    "#### 3.0.2.b Categorical data check"
   ]
  },
  {
   "cell_type": "code",
   "execution_count": null,
   "metadata": {},
   "outputs": [],
   "source": [
    "# Now lets check the categorical columns\n",
    "category={}\n",
    "def consistency_check_cat():\n",
    "    for i in categorical_col:\n",
    "        category[i]=azdias[i].dropna().unique()\n",
    "    return category\n",
    "consistency_check_cat()"
   ]
  },
  {
   "cell_type": "markdown",
   "metadata": {},
   "source": [
    "**NOTE :** - Upon checking with documentation, \n",
    "- EINGEFUEGT_AM - drop for now as when one hot coding will create lot of columns\n",
    "- D19_LETZTER_KAUF_BRANCHE - is refering to other columns will drop for now as when one hot coding will create lot of columns\n",
    "- CAMEO_DEUG_2015 should not have 'X', we need to replace with 0 as unknown\n",
    "- CAMEO_INTL_2015 should not have 'XX, we need to replace with 0 as unknown\n",
    "- CAMEO_DEU_2015 should not have 'XX', we need to replace with 0 as unknown"
   ]
  },
  {
   "cell_type": "code",
   "execution_count": null,
   "metadata": {},
   "outputs": [],
   "source": [
    "azdias=azdias.drop('D19_LETZTER_KAUF_BRANCHE',axis=1)\n",
    "customers=customers.drop('D19_LETZTER_KAUF_BRANCHE',axis=1)\n",
    "\n",
    "azdias=azdias.drop('EINGEFUEGT_AM',axis=1)\n",
    "customers=customers.drop('EINGEFUEGT_AM',axis=1)"
   ]
  },
  {
   "cell_type": "code",
   "execution_count": null,
   "metadata": {},
   "outputs": [],
   "source": [
    "azdias[['CAMEO_DEUG_2015','CAMEO_INTL_2015','CAMEO_DEU_2015']]=azdias[['CAMEO_DEUG_2015','CAMEO_INTL_2015','CAMEO_DEU_2015']].replace(['X','XX'],-1)\n",
    "azdias[['CAMEO_DEUG_2015','CAMEO_INTL_2015']]=azdias[['CAMEO_DEUG_2015','CAMEO_INTL_2015']].apply(pd.to_numeric)\n",
    "\n",
    "customers[['CAMEO_DEUG_2015','CAMEO_INTL_2015','CAMEO_DEU_2015']]=customers[['CAMEO_DEUG_2015','CAMEO_INTL_2015','CAMEO_DEU_2015']].replace(['X','XX'],-1)\n",
    "customers[['CAMEO_DEUG_2015','CAMEO_INTL_2015']]=customers[['CAMEO_DEUG_2015','CAMEO_INTL_2015']].apply(pd.to_numeric)\n"
   ]
  },
  {
   "cell_type": "markdown",
   "metadata": {},
   "source": [
    "## 3.1 Data uniformity"
   ]
  },
  {
   "cell_type": "markdown",
   "metadata": {},
   "source": [
    "*Also having 0,-1 both to represent unknown can cause ambiguity. We should work on this issue by replacing 0 with -1 in the column*\n",
    "\n",
    "#### Unknown is represented as (-1,0) or (-1,9) in the dataset. \n",
    "*Also having 0,-1 both to represent unknown can cause ambiguity. We should work on this issue by replacing 0 with -1 in the column*\n",
    "\n",
    "- We should have only one either of [-1 or 0] in a column to have consistency.\n",
    "- We should have only one either of [-1 or 9] in a column to have consistency. \n",
    "\n",
    "Handling this condition"
   ]
  },
  {
   "cell_type": "code",
   "execution_count": null,
   "metadata": {},
   "outputs": [],
   "source": [
    "ambiguity_10=list(set(list(dias_df[dias_df['Value']=='-1, 0']['Attribute'])).intersection(set(azdias.columns)))\n",
    "ambiguity_90=list(set(list(dias_df[dias_df['Value']=='-1, 9']['Attribute'])).intersection(set(azdias.columns)))"
   ]
  },
  {
   "cell_type": "code",
   "execution_count": null,
   "metadata": {},
   "outputs": [],
   "source": [
    "print(ambiguity_10)\n",
    "print(ambiguity_90)"
   ]
  },
  {
   "cell_type": "code",
   "execution_count": null,
   "metadata": {},
   "outputs": [],
   "source": [
    "azdias[ambiguity_10]=azdias[ambiguity_10].replace(0,-1)\n",
    "azdias[ambiguity_90]=azdias[ambiguity_90].replace(9,-1)\n",
    "\n",
    "customers[ambiguity_10]=customers[ambiguity_10].replace(0,-1)\n",
    "customers[ambiguity_90]=customers[ambiguity_90].replace(9,-1)\n"
   ]
  },
  {
   "cell_type": "markdown",
   "metadata": {},
   "source": [
    "## 3.2 Handling Missing values"
   ]
  },
  {
   "cell_type": "markdown",
   "metadata": {},
   "source": [
    "### 3.2.1 Droping data where more than 95% of data missing"
   ]
  },
  {
   "cell_type": "markdown",
   "metadata": {},
   "source": [
    "#### Rows"
   ]
  },
  {
   "cell_type": "code",
   "execution_count": null,
   "metadata": {},
   "outputs": [],
   "source": [
    "# removing rows having retension percentage less than 94%\n",
    "new_azdias=azdias[azdias.isnull().sum(axis=1)<=20]\n",
    "\n",
    "new_customers=customers[customers.isnull().sum(axis=1)<=20]"
   ]
  },
  {
   "cell_type": "markdown",
   "metadata": {},
   "source": [
    "#### Columns"
   ]
  },
  {
   "cell_type": "code",
   "execution_count": null,
   "metadata": {},
   "outputs": [],
   "source": [
    "#droping columns which have more than 90 % of missing data\n",
    "#drop_cols=missing_values['column'][:4]\n",
    "new_azdias=new_azdias.drop(drop_cols,axis=1)\n",
    "\n",
    "new_customers=customers.drop(drop_cols,axis=1)"
   ]
  },
  {
   "cell_type": "code",
   "execution_count": null,
   "metadata": {},
   "outputs": [],
   "source": [
    "print(\"shape of azdias dataset before is\",azdias.shape)\n",
    "print(\"shape of customers dataset before is\",customers.shape)\n",
    "print(\"\\n\")\n",
    "print(\"shape of azdias dataset after is\",new_azdias.shape)\n",
    "print(\"shape of customers dataset after is\",new_customers.shape)"
   ]
  },
  {
   "cell_type": "markdown",
   "metadata": {},
   "source": [
    "### 3.2.2 Replacing Nan \n",
    " **NOTE** :DIAS Attributes tells us about the attributes. It has 0,-1 representatins for unknown. But,Nan does not mean unknown.\n",
    "NaN could have been caused due many factors: like human error etc\n",
    "\n",
    "So we will not fillna() to replace with -1 yet.\n",
    "\n",
    "##### ToDo : To experiment and check how using fillna to replace nan chnages effciency"
   ]
  },
  {
   "cell_type": "markdown",
   "metadata": {},
   "source": [
    "How to handle missing values:\n",
    "- Replace with mode : Viable solution in our situation\n",
    "- Replace with mean : filling with mean will introduce decimals into dataset, can effect efficiency \n",
    "- Replace with ffill : Not viable solution\n",
    "- Replace with bfill : Not viable solution\n",
    "- etc.\n"
   ]
  },
  {
   "cell_type": "code",
   "execution_count": null,
   "metadata": {},
   "outputs": [],
   "source": [
    "new_azdias=new_azdias.fillna(new_azdias.mode().iloc[0])\n",
    "new_customers=new_customers.fillna(new_customers.mode().iloc[0])"
   ]
  },
  {
   "cell_type": "code",
   "execution_count": null,
   "metadata": {},
   "outputs": [],
   "source": [
    "new_azdias.isna().sum().sum()"
   ]
  },
  {
   "cell_type": "code",
   "execution_count": null,
   "metadata": {},
   "outputs": [],
   "source": [
    "new_customers.isna().sum().sum()"
   ]
  },
  {
   "cell_type": "markdown",
   "metadata": {},
   "source": [
    "### 3.2.3 One hot encoding categorical columns"
   ]
  },
  {
   "cell_type": "code",
   "execution_count": null,
   "metadata": {},
   "outputs": [],
   "source": [
    "new_customers.dtypes.unique()\n",
    "new_customers.select_dtypes(include ='O').columns"
   ]
  },
  {
   "cell_type": "code",
   "execution_count": null,
   "metadata": {},
   "outputs": [],
   "source": [
    "new_azdias=pd.get_dummies(new_azdias)\n",
    "new_customers=pd.get_dummies(new_customers)\n"
   ]
  },
  {
   "cell_type": "code",
   "execution_count": null,
   "metadata": {},
   "outputs": [],
   "source": [
    "print(\"new shape of azdias after one hot encoding\",new_azdias.shape)\n",
    "print(\"new shape of customers after one hot encoding\",new_customers.shape)"
   ]
  },
  {
   "cell_type": "markdown",
   "metadata": {},
   "source": [
    "## 3.3 Standardizing the Dataset"
   ]
  },
  {
   "cell_type": "code",
   "execution_count": null,
   "metadata": {},
   "outputs": [],
   "source": [
    "from sklearn.preprocessing import StandardScaler\n",
    "scaler = StandardScaler()\n",
    "new_azdias[new_azdias.columns] = scaler.fit_transform(new_azdias)\n",
    "new_customers[new_customers.columns] = scaler.fit_transform(new_customers)"
   ]
  },
  {
   "cell_type": "code",
   "execution_count": null,
   "metadata": {},
   "outputs": [],
   "source": [
    "new_azdias.shape"
   ]
  },
  {
   "cell_type": "code",
   "execution_count": null,
   "metadata": {},
   "outputs": [],
   "source": [
    "new_customers.shape"
   ]
  },
  {
   "cell_type": "code",
   "execution_count": null,
   "metadata": {},
   "outputs": [],
   "source": [
    "(745305, 405)\n",
    "\n",
    "(191652, 405)"
   ]
  },
  {
   "cell_type": "markdown",
   "metadata": {},
   "source": [
    "# We need to refactor all the above tasks to avoid repetition"
   ]
  },
  {
   "cell_type": "code",
   "execution_count": null,
   "metadata": {},
   "outputs": [],
   "source": [
    "# import libraries here; add more as necessary\n",
    "import numpy as np\n",
    "import pandas as pd\n",
    "import matplotlib.pyplot as plt\n",
    "import seaborn as sns\n",
    "\n",
    "# magic word for producing visualizations in notebook\n",
    "%matplotlib inline"
   ]
  },
  {
   "cell_type": "code",
   "execution_count": 2,
   "metadata": {},
   "outputs": [
    {
     "name": "stderr",
     "output_type": "stream",
     "text": [
      "/Users/maitreytalware/opt/anaconda3/lib/python3.7/site-packages/IPython/core/interactiveshell.py:3063: DtypeWarning: Columns (18,19) have mixed types.Specify dtype option on import or set low_memory=False.\n",
      "  interactivity=interactivity, compiler=compiler, result=result)\n"
     ]
    }
   ],
   "source": [
    "azdias = pd.read_csv('Udacity_AZDIAS_052018.csv', sep=';')\n",
    "customers = pd.read_csv('Udacity_CUSTOMERS_052018.csv', sep=';')"
   ]
  },
  {
   "cell_type": "code",
   "execution_count": 3,
   "metadata": {},
   "outputs": [],
   "source": [
    "ambiguity_10=['WOHNDAUER_2008', 'KKK', 'W_KEIT_KIND_HH', 'ALTERSKATEGORIE_GROB', 'NATIONALITAET_KZ', 'PRAEGENDE_JUGENDJAHRE', 'KBA05_GBZ', 'TITEL_KZ', 'REGIOTYP', 'KBA05_BAUMAX', 'HH_EINKOMMEN_SCORE', 'GEBAEUDETYP', 'ANREDE_KZ']\n",
    "ambiguity_90=['KBA05_HERST1', 'KBA05_ALTER4', 'KBA05_SEG3', 'SEMIO_KRIT', 'KBA05_KRSKLEIN', 'KBA05_MOD4', 'KBA05_HERST5', 'KBA05_SEG4', 'KBA05_ZUL3', 'KBA05_ZUL4', 'SEMIO_PFLICHT', 'KBA05_KRSZUL', 'KBA05_FRAU', 'KBA05_KRSAQUOT', 'KBA05_MAXBJ', 'KBA05_ZUL1', 'KBA05_MOTOR', 'KBA05_KW3', 'KBA05_MAXAH', 'KBA05_MOD3', 'SEMIO_SOZ', 'KBA05_MODTEMP', 'KBA05_SEG1', 'KBA05_SEG9', 'SEMIO_FAM', 'SEMIO_KAEM', 'KBA05_ALTER1', 'KBA05_DIESEL', 'KBA05_HERST4', 'KBA05_MAXSEG', 'KBA05_MOTRAD', 'RELAT_AB', 'SEMIO_ERL', 'KBA05_MOD2', 'KBA05_VORB0', 'KBA05_VORB2', 'KBA05_ALTER3', 'KBA05_KW2', 'KBA05_ANHANG', 'KBA05_MOD8', 'KBA05_SEG6', 'KBA05_SEG5', 'KBA05_KRSOBER', 'KBA05_AUTOQUOT', 'KBA05_ALTER2', 'SEMIO_VERT', 'KBA05_KW1', 'KBA05_SEG8', 'KBA05_VORB1', 'ZABEOTYP', 'KBA05_KRSHERST3', 'KBA05_SEG10', 'KBA05_CCM4', 'SEMIO_LUST', 'KBA05_KRSHERST1', 'KBA05_KRSVAN', 'KBA05_MAXHERST', 'KBA05_SEG7', 'SEMIO_RAT', 'KBA05_CCM3', 'KBA05_CCM1', 'KBA05_CCM2', 'KBA05_ZUL2', 'KBA05_MAXVORB', 'KBA05_SEG2', 'KBA05_KRSHERST2', 'SEMIO_KULT', 'KBA05_HERSTTEMP', 'SEMIO_REL', 'SEMIO_DOM', 'SEMIO_TRADV', 'KBA05_HERST3', 'KBA05_HERST2', 'KBA05_MOD1', 'SEMIO_MAT']\n"
   ]
  },
  {
   "cell_type": "code",
   "execution_count": 4,
   "metadata": {},
   "outputs": [],
   "source": [
    "from sklearn.preprocessing import StandardScaler\n",
    "def preprocess(df,name=None):\n",
    "    print(\"Shape before\",df.shape)\n",
    "    if name=='customers':\n",
    "        df=df.drop(['PRODUCT_GROUP','CUSTOMER_GROUP','ONLINE_PURCHASE'],axis=1)\n",
    "    \n",
    "    if name=='azdias':\n",
    "        df=df[df.isnull().sum(axis=1)<=20].reset_index(drop=True)\n",
    "    # finding numeric and categorical columns\n",
    "\n",
    "    Numeric_columns=df.select_dtypes(include=np.number).columns.tolist()\n",
    "    categorical_col=set(df.columns).difference(set(Numeric_columns))\n",
    "    # numeric cols to numeric\n",
    "    print(categorical_col)\n",
    "    df[Numeric_columns]=df[Numeric_columns].apply(pd.to_numeric)\n",
    "    # drop columns to avoid lot of columns\n",
    "    df=df.drop('D19_LETZTER_KAUF_BRANCHE',axis=1)\n",
    "    df=df.drop('EINGEFUEGT_AM',axis=1)\n",
    "    #\n",
    "    df[['CAMEO_DEUG_2015','CAMEO_INTL_2015','CAMEO_DEU_2015']]=df[['CAMEO_DEUG_2015','CAMEO_INTL_2015','CAMEO_DEU_2015']].replace(['X','XX'],-1)\n",
    "    df[['CAMEO_DEUG_2015','CAMEO_INTL_2015']]=df[['CAMEO_DEUG_2015','CAMEO_INTL_2015']].apply(pd.to_numeric)\n",
    "    #\n",
    "\n",
    "    df[ambiguity_10]=df[ambiguity_10].replace(0,-1)\n",
    "    df[ambiguity_90]=df[ambiguity_90].replace(9,-1)\n",
    "    df=df.drop(['ALTER_KIND4', 'ALTER_KIND3', 'ALTER_KIND2', 'ALTER_KIND1'],axis=1)\n",
    "    df=df.fillna(df.mode().iloc[0])\n",
    "    print(\"Number of nan Values\",df.isna().sum().sum())\n",
    "    df=pd.get_dummies(df)\n",
    "    \n",
    "    scaler = StandardScaler()\n",
    "    df[df.columns] = scaler.fit_transform(df)\n",
    "    print(\"shape after\",df.shape)\n",
    "    df = df.set_index('LNR')\n",
    "    return df"
   ]
  },
  {
   "cell_type": "code",
   "execution_count": 5,
   "metadata": {},
   "outputs": [
    {
     "name": "stdout",
     "output_type": "stream",
     "text": [
      "Shape before (891221, 366)\n",
      "{'OST_WEST_KZ', 'D19_LETZTER_KAUF_BRANCHE', 'CAMEO_DEU_2015', 'EINGEFUEGT_AM', 'CAMEO_DEUG_2015', 'CAMEO_INTL_2015'}\n",
      "Number of nan Values 0\n",
      "shape after (744305, 405)\n"
     ]
    }
   ],
   "source": [
    "scaled_azdias=preprocess(azdias,'azdias')"
   ]
  },
  {
   "cell_type": "code",
   "execution_count": 6,
   "metadata": {},
   "outputs": [
    {
     "name": "stdout",
     "output_type": "stream",
     "text": [
      "Shape before (191652, 369)\n",
      "{'OST_WEST_KZ', 'D19_LETZTER_KAUF_BRANCHE', 'CAMEO_DEU_2015', 'EINGEFUEGT_AM', 'CAMEO_DEUG_2015', 'CAMEO_INTL_2015'}\n",
      "Number of nan Values 0\n",
      "shape after (191652, 405)\n"
     ]
    }
   ],
   "source": [
    "scaled_customers=preprocess(customers,'customers')"
   ]
  },
  {
   "cell_type": "code",
   "execution_count": 7,
   "metadata": {},
   "outputs": [
    {
     "data": {
      "text/html": [
       "<div>\n",
       "<style scoped>\n",
       "    .dataframe tbody tr th:only-of-type {\n",
       "        vertical-align: middle;\n",
       "    }\n",
       "\n",
       "    .dataframe tbody tr th {\n",
       "        vertical-align: top;\n",
       "    }\n",
       "\n",
       "    .dataframe thead th {\n",
       "        text-align: right;\n",
       "    }\n",
       "</style>\n",
       "<table border=\"1\" class=\"dataframe\">\n",
       "  <thead>\n",
       "    <tr style=\"text-align: right;\">\n",
       "      <th></th>\n",
       "      <th>AGER_TYP</th>\n",
       "      <th>AKT_DAT_KL</th>\n",
       "      <th>ALTER_HH</th>\n",
       "      <th>ALTERSKATEGORIE_FEIN</th>\n",
       "      <th>ANZ_HAUSHALTE_AKTIV</th>\n",
       "      <th>ANZ_HH_TITEL</th>\n",
       "      <th>ANZ_KINDER</th>\n",
       "      <th>ANZ_PERSONEN</th>\n",
       "      <th>ANZ_STATISTISCHE_HAUSHALTE</th>\n",
       "      <th>ANZ_TITEL</th>\n",
       "      <th>...</th>\n",
       "      <th>CAMEO_DEU_2015_8B</th>\n",
       "      <th>CAMEO_DEU_2015_8C</th>\n",
       "      <th>CAMEO_DEU_2015_8D</th>\n",
       "      <th>CAMEO_DEU_2015_9A</th>\n",
       "      <th>CAMEO_DEU_2015_9B</th>\n",
       "      <th>CAMEO_DEU_2015_9C</th>\n",
       "      <th>CAMEO_DEU_2015_9D</th>\n",
       "      <th>CAMEO_DEU_2015_9E</th>\n",
       "      <th>OST_WEST_KZ_O</th>\n",
       "      <th>OST_WEST_KZ_W</th>\n",
       "    </tr>\n",
       "    <tr>\n",
       "      <th>LNR</th>\n",
       "      <th></th>\n",
       "      <th></th>\n",
       "      <th></th>\n",
       "      <th></th>\n",
       "      <th></th>\n",
       "      <th></th>\n",
       "      <th></th>\n",
       "      <th></th>\n",
       "      <th></th>\n",
       "      <th></th>\n",
       "      <th></th>\n",
       "      <th></th>\n",
       "      <th></th>\n",
       "      <th></th>\n",
       "      <th></th>\n",
       "      <th></th>\n",
       "      <th></th>\n",
       "      <th></th>\n",
       "      <th></th>\n",
       "      <th></th>\n",
       "      <th></th>\n",
       "    </tr>\n",
       "  </thead>\n",
       "  <tbody>\n",
       "    <tr>\n",
       "      <th>1.060104</th>\n",
       "      <td>-0.573138</td>\n",
       "      <td>1.249922</td>\n",
       "      <td>-1.419539</td>\n",
       "      <td>1.560724</td>\n",
       "      <td>0.158256</td>\n",
       "      <td>-0.128594</td>\n",
       "      <td>-0.297023</td>\n",
       "      <td>0.232945</td>\n",
       "      <td>0.291347</td>\n",
       "      <td>-0.060494</td>\n",
       "      <td>...</td>\n",
       "      <td>-0.211823</td>\n",
       "      <td>-0.205615</td>\n",
       "      <td>-0.153395</td>\n",
       "      <td>-0.166375</td>\n",
       "      <td>-0.19337</td>\n",
       "      <td>-0.183414</td>\n",
       "      <td>-0.196412</td>\n",
       "      <td>-0.087037</td>\n",
       "      <td>-0.519892</td>\n",
       "      <td>0.519892</td>\n",
       "    </tr>\n",
       "    <tr>\n",
       "      <th>1.060123</th>\n",
       "      <td>-0.573138</td>\n",
       "      <td>1.249922</td>\n",
       "      <td>0.808202</td>\n",
       "      <td>0.675260</td>\n",
       "      <td>0.094457</td>\n",
       "      <td>-0.128594</td>\n",
       "      <td>-0.297023</td>\n",
       "      <td>-0.627017</td>\n",
       "      <td>-0.055617</td>\n",
       "      <td>-0.060494</td>\n",
       "      <td>...</td>\n",
       "      <td>-0.211823</td>\n",
       "      <td>-0.205615</td>\n",
       "      <td>-0.153395</td>\n",
       "      <td>-0.166375</td>\n",
       "      <td>-0.19337</td>\n",
       "      <td>-0.183414</td>\n",
       "      <td>-0.196412</td>\n",
       "      <td>-0.087037</td>\n",
       "      <td>-0.519892</td>\n",
       "      <td>0.519892</td>\n",
       "    </tr>\n",
       "    <tr>\n",
       "      <th>1.060127</th>\n",
       "      <td>1.857451</td>\n",
       "      <td>-0.942389</td>\n",
       "      <td>0.284028</td>\n",
       "      <td>-0.210205</td>\n",
       "      <td>-0.479738</td>\n",
       "      <td>-0.128594</td>\n",
       "      <td>-0.297023</td>\n",
       "      <td>-1.486979</td>\n",
       "      <td>-0.402581</td>\n",
       "      <td>-0.060494</td>\n",
       "      <td>...</td>\n",
       "      <td>-0.211823</td>\n",
       "      <td>-0.205615</td>\n",
       "      <td>-0.153395</td>\n",
       "      <td>-0.166375</td>\n",
       "      <td>-0.19337</td>\n",
       "      <td>-0.183414</td>\n",
       "      <td>-0.196412</td>\n",
       "      <td>-0.087037</td>\n",
       "      <td>-0.519892</td>\n",
       "      <td>0.519892</td>\n",
       "    </tr>\n",
       "    <tr>\n",
       "      <th>1.060185</th>\n",
       "      <td>-0.573138</td>\n",
       "      <td>-0.942389</td>\n",
       "      <td>1.201333</td>\n",
       "      <td>0.011161</td>\n",
       "      <td>-0.352140</td>\n",
       "      <td>-0.128594</td>\n",
       "      <td>-0.297023</td>\n",
       "      <td>1.952869</td>\n",
       "      <td>-0.333188</td>\n",
       "      <td>-0.060494</td>\n",
       "      <td>...</td>\n",
       "      <td>-0.211823</td>\n",
       "      <td>-0.205615</td>\n",
       "      <td>-0.153395</td>\n",
       "      <td>-0.166375</td>\n",
       "      <td>-0.19337</td>\n",
       "      <td>-0.183414</td>\n",
       "      <td>-0.196412</td>\n",
       "      <td>-0.087037</td>\n",
       "      <td>-0.519892</td>\n",
       "      <td>0.519892</td>\n",
       "    </tr>\n",
       "    <tr>\n",
       "      <th>1.060197</th>\n",
       "      <td>2.667648</td>\n",
       "      <td>-0.942389</td>\n",
       "      <td>-0.109103</td>\n",
       "      <td>-0.874304</td>\n",
       "      <td>-0.224541</td>\n",
       "      <td>-0.128594</td>\n",
       "      <td>-0.297023</td>\n",
       "      <td>-0.627017</td>\n",
       "      <td>-0.402581</td>\n",
       "      <td>-0.060494</td>\n",
       "      <td>...</td>\n",
       "      <td>-0.211823</td>\n",
       "      <td>4.863456</td>\n",
       "      <td>-0.153395</td>\n",
       "      <td>-0.166375</td>\n",
       "      <td>-0.19337</td>\n",
       "      <td>-0.183414</td>\n",
       "      <td>-0.196412</td>\n",
       "      <td>-0.087037</td>\n",
       "      <td>-0.519892</td>\n",
       "      <td>0.519892</td>\n",
       "    </tr>\n",
       "  </tbody>\n",
       "</table>\n",
       "<p>5 rows × 404 columns</p>\n",
       "</div>"
      ],
      "text/plain": [
       "          AGER_TYP  AKT_DAT_KL  ALTER_HH  ALTERSKATEGORIE_FEIN  \\\n",
       "LNR                                                              \n",
       "1.060104 -0.573138    1.249922 -1.419539              1.560724   \n",
       "1.060123 -0.573138    1.249922  0.808202              0.675260   \n",
       "1.060127  1.857451   -0.942389  0.284028             -0.210205   \n",
       "1.060185 -0.573138   -0.942389  1.201333              0.011161   \n",
       "1.060197  2.667648   -0.942389 -0.109103             -0.874304   \n",
       "\n",
       "          ANZ_HAUSHALTE_AKTIV  ANZ_HH_TITEL  ANZ_KINDER  ANZ_PERSONEN  \\\n",
       "LNR                                                                     \n",
       "1.060104             0.158256     -0.128594   -0.297023      0.232945   \n",
       "1.060123             0.094457     -0.128594   -0.297023     -0.627017   \n",
       "1.060127            -0.479738     -0.128594   -0.297023     -1.486979   \n",
       "1.060185            -0.352140     -0.128594   -0.297023      1.952869   \n",
       "1.060197            -0.224541     -0.128594   -0.297023     -0.627017   \n",
       "\n",
       "          ANZ_STATISTISCHE_HAUSHALTE  ANZ_TITEL  ...  CAMEO_DEU_2015_8B  \\\n",
       "LNR                                              ...                      \n",
       "1.060104                    0.291347  -0.060494  ...          -0.211823   \n",
       "1.060123                   -0.055617  -0.060494  ...          -0.211823   \n",
       "1.060127                   -0.402581  -0.060494  ...          -0.211823   \n",
       "1.060185                   -0.333188  -0.060494  ...          -0.211823   \n",
       "1.060197                   -0.402581  -0.060494  ...          -0.211823   \n",
       "\n",
       "          CAMEO_DEU_2015_8C  CAMEO_DEU_2015_8D  CAMEO_DEU_2015_9A  \\\n",
       "LNR                                                                 \n",
       "1.060104          -0.205615          -0.153395          -0.166375   \n",
       "1.060123          -0.205615          -0.153395          -0.166375   \n",
       "1.060127          -0.205615          -0.153395          -0.166375   \n",
       "1.060185          -0.205615          -0.153395          -0.166375   \n",
       "1.060197           4.863456          -0.153395          -0.166375   \n",
       "\n",
       "          CAMEO_DEU_2015_9B  CAMEO_DEU_2015_9C  CAMEO_DEU_2015_9D  \\\n",
       "LNR                                                                 \n",
       "1.060104           -0.19337          -0.183414          -0.196412   \n",
       "1.060123           -0.19337          -0.183414          -0.196412   \n",
       "1.060127           -0.19337          -0.183414          -0.196412   \n",
       "1.060185           -0.19337          -0.183414          -0.196412   \n",
       "1.060197           -0.19337          -0.183414          -0.196412   \n",
       "\n",
       "          CAMEO_DEU_2015_9E  OST_WEST_KZ_O  OST_WEST_KZ_W  \n",
       "LNR                                                        \n",
       "1.060104          -0.087037      -0.519892       0.519892  \n",
       "1.060123          -0.087037      -0.519892       0.519892  \n",
       "1.060127          -0.087037      -0.519892       0.519892  \n",
       "1.060185          -0.087037      -0.519892       0.519892  \n",
       "1.060197          -0.087037      -0.519892       0.519892  \n",
       "\n",
       "[5 rows x 404 columns]"
      ]
     },
     "execution_count": 7,
     "metadata": {},
     "output_type": "execute_result"
    }
   ],
   "source": [
    "scaled_azdias.head()"
   ]
  },
  {
   "cell_type": "code",
   "execution_count": 8,
   "metadata": {},
   "outputs": [
    {
     "data": {
      "text/html": [
       "<div>\n",
       "<style scoped>\n",
       "    .dataframe tbody tr th:only-of-type {\n",
       "        vertical-align: middle;\n",
       "    }\n",
       "\n",
       "    .dataframe tbody tr th {\n",
       "        vertical-align: top;\n",
       "    }\n",
       "\n",
       "    .dataframe thead th {\n",
       "        text-align: right;\n",
       "    }\n",
       "</style>\n",
       "<table border=\"1\" class=\"dataframe\">\n",
       "  <thead>\n",
       "    <tr style=\"text-align: right;\">\n",
       "      <th></th>\n",
       "      <th>AGER_TYP</th>\n",
       "      <th>AKT_DAT_KL</th>\n",
       "      <th>ALTER_HH</th>\n",
       "      <th>ALTERSKATEGORIE_FEIN</th>\n",
       "      <th>ANZ_HAUSHALTE_AKTIV</th>\n",
       "      <th>ANZ_HH_TITEL</th>\n",
       "      <th>ANZ_KINDER</th>\n",
       "      <th>ANZ_PERSONEN</th>\n",
       "      <th>ANZ_STATISTISCHE_HAUSHALTE</th>\n",
       "      <th>ANZ_TITEL</th>\n",
       "      <th>...</th>\n",
       "      <th>CAMEO_DEU_2015_8B</th>\n",
       "      <th>CAMEO_DEU_2015_8C</th>\n",
       "      <th>CAMEO_DEU_2015_8D</th>\n",
       "      <th>CAMEO_DEU_2015_9A</th>\n",
       "      <th>CAMEO_DEU_2015_9B</th>\n",
       "      <th>CAMEO_DEU_2015_9C</th>\n",
       "      <th>CAMEO_DEU_2015_9D</th>\n",
       "      <th>CAMEO_DEU_2015_9E</th>\n",
       "      <th>OST_WEST_KZ_O</th>\n",
       "      <th>OST_WEST_KZ_W</th>\n",
       "    </tr>\n",
       "    <tr>\n",
       "      <th>LNR</th>\n",
       "      <th></th>\n",
       "      <th></th>\n",
       "      <th></th>\n",
       "      <th></th>\n",
       "      <th></th>\n",
       "      <th></th>\n",
       "      <th></th>\n",
       "      <th></th>\n",
       "      <th></th>\n",
       "      <th></th>\n",
       "      <th></th>\n",
       "      <th></th>\n",
       "      <th></th>\n",
       "      <th></th>\n",
       "      <th></th>\n",
       "      <th></th>\n",
       "      <th></th>\n",
       "      <th></th>\n",
       "      <th></th>\n",
       "      <th></th>\n",
       "      <th></th>\n",
       "    </tr>\n",
       "  </thead>\n",
       "  <tbody>\n",
       "    <tr>\n",
       "      <th>-1.558070</th>\n",
       "      <td>1.189681</td>\n",
       "      <td>-0.325074</td>\n",
       "      <td>0.192466</td>\n",
       "      <td>-0.068433</td>\n",
       "      <td>-0.235979</td>\n",
       "      <td>-0.105218</td>\n",
       "      <td>-0.238379</td>\n",
       "      <td>-0.166805</td>\n",
       "      <td>-0.222434</td>\n",
       "      <td>-0.116283</td>\n",
       "      <td>...</td>\n",
       "      <td>-0.142037</td>\n",
       "      <td>-0.121786</td>\n",
       "      <td>-0.10791</td>\n",
       "      <td>-0.073256</td>\n",
       "      <td>-0.069338</td>\n",
       "      <td>-0.071949</td>\n",
       "      <td>-0.10157</td>\n",
       "      <td>-0.089055</td>\n",
       "      <td>-0.250816</td>\n",
       "      <td>0.250816</td>\n",
       "    </tr>\n",
       "    <tr>\n",
       "      <th>-1.558034</th>\n",
       "      <td>-0.966005</td>\n",
       "      <td>4.271391</td>\n",
       "      <td>0.329163</td>\n",
       "      <td>-0.068433</td>\n",
       "      <td>-0.235979</td>\n",
       "      <td>-0.105218</td>\n",
       "      <td>-0.238379</td>\n",
       "      <td>0.656067</td>\n",
       "      <td>-0.222434</td>\n",
       "      <td>-0.116283</td>\n",
       "      <td>...</td>\n",
       "      <td>-0.142037</td>\n",
       "      <td>-0.121786</td>\n",
       "      <td>-0.10791</td>\n",
       "      <td>-0.073256</td>\n",
       "      <td>-0.069338</td>\n",
       "      <td>-0.071949</td>\n",
       "      <td>-0.10157</td>\n",
       "      <td>-0.089055</td>\n",
       "      <td>-0.250816</td>\n",
       "      <td>0.250816</td>\n",
       "    </tr>\n",
       "    <tr>\n",
       "      <th>0.868420</th>\n",
       "      <td>-0.966005</td>\n",
       "      <td>-0.325074</td>\n",
       "      <td>-0.354319</td>\n",
       "      <td>-2.897572</td>\n",
       "      <td>-0.235979</td>\n",
       "      <td>-0.105218</td>\n",
       "      <td>-0.238379</td>\n",
       "      <td>-0.989677</td>\n",
       "      <td>-0.222434</td>\n",
       "      <td>-0.116283</td>\n",
       "      <td>...</td>\n",
       "      <td>-0.142037</td>\n",
       "      <td>-0.121786</td>\n",
       "      <td>-0.10791</td>\n",
       "      <td>-0.073256</td>\n",
       "      <td>-0.069338</td>\n",
       "      <td>-0.071949</td>\n",
       "      <td>-0.10157</td>\n",
       "      <td>-0.089055</td>\n",
       "      <td>-0.250816</td>\n",
       "      <td>0.250816</td>\n",
       "    </tr>\n",
       "    <tr>\n",
       "      <th>0.868438</th>\n",
       "      <td>0.471119</td>\n",
       "      <td>-0.325074</td>\n",
       "      <td>-0.080926</td>\n",
       "      <td>-0.634261</td>\n",
       "      <td>-0.316443</td>\n",
       "      <td>-0.105218</td>\n",
       "      <td>-0.238379</td>\n",
       "      <td>-1.812549</td>\n",
       "      <td>-0.222434</td>\n",
       "      <td>-0.116283</td>\n",
       "      <td>...</td>\n",
       "      <td>-0.142037</td>\n",
       "      <td>-0.121786</td>\n",
       "      <td>-0.10791</td>\n",
       "      <td>-0.073256</td>\n",
       "      <td>-0.069338</td>\n",
       "      <td>-0.071949</td>\n",
       "      <td>-0.10157</td>\n",
       "      <td>-0.089055</td>\n",
       "      <td>-0.250816</td>\n",
       "      <td>0.250816</td>\n",
       "    </tr>\n",
       "    <tr>\n",
       "      <th>0.868456</th>\n",
       "      <td>-0.966005</td>\n",
       "      <td>-0.325074</td>\n",
       "      <td>1.559431</td>\n",
       "      <td>1.063223</td>\n",
       "      <td>0.246806</td>\n",
       "      <td>-0.105218</td>\n",
       "      <td>-0.238379</td>\n",
       "      <td>1.478939</td>\n",
       "      <td>0.265169</td>\n",
       "      <td>-0.116283</td>\n",
       "      <td>...</td>\n",
       "      <td>-0.142037</td>\n",
       "      <td>-0.121786</td>\n",
       "      <td>-0.10791</td>\n",
       "      <td>-0.073256</td>\n",
       "      <td>-0.069338</td>\n",
       "      <td>-0.071949</td>\n",
       "      <td>-0.10157</td>\n",
       "      <td>-0.089055</td>\n",
       "      <td>-0.250816</td>\n",
       "      <td>0.250816</td>\n",
       "    </tr>\n",
       "  </tbody>\n",
       "</table>\n",
       "<p>5 rows × 404 columns</p>\n",
       "</div>"
      ],
      "text/plain": [
       "           AGER_TYP  AKT_DAT_KL  ALTER_HH  ALTERSKATEGORIE_FEIN  \\\n",
       "LNR                                                               \n",
       "-1.558070  1.189681   -0.325074  0.192466             -0.068433   \n",
       "-1.558034 -0.966005    4.271391  0.329163             -0.068433   \n",
       " 0.868420 -0.966005   -0.325074 -0.354319             -2.897572   \n",
       " 0.868438  0.471119   -0.325074 -0.080926             -0.634261   \n",
       " 0.868456 -0.966005   -0.325074  1.559431              1.063223   \n",
       "\n",
       "           ANZ_HAUSHALTE_AKTIV  ANZ_HH_TITEL  ANZ_KINDER  ANZ_PERSONEN  \\\n",
       "LNR                                                                      \n",
       "-1.558070            -0.235979     -0.105218   -0.238379     -0.166805   \n",
       "-1.558034            -0.235979     -0.105218   -0.238379      0.656067   \n",
       " 0.868420            -0.235979     -0.105218   -0.238379     -0.989677   \n",
       " 0.868438            -0.316443     -0.105218   -0.238379     -1.812549   \n",
       " 0.868456             0.246806     -0.105218   -0.238379      1.478939   \n",
       "\n",
       "           ANZ_STATISTISCHE_HAUSHALTE  ANZ_TITEL  ...  CAMEO_DEU_2015_8B  \\\n",
       "LNR                                               ...                      \n",
       "-1.558070                   -0.222434  -0.116283  ...          -0.142037   \n",
       "-1.558034                   -0.222434  -0.116283  ...          -0.142037   \n",
       " 0.868420                   -0.222434  -0.116283  ...          -0.142037   \n",
       " 0.868438                   -0.222434  -0.116283  ...          -0.142037   \n",
       " 0.868456                    0.265169  -0.116283  ...          -0.142037   \n",
       "\n",
       "           CAMEO_DEU_2015_8C  CAMEO_DEU_2015_8D  CAMEO_DEU_2015_9A  \\\n",
       "LNR                                                                  \n",
       "-1.558070          -0.121786           -0.10791          -0.073256   \n",
       "-1.558034          -0.121786           -0.10791          -0.073256   \n",
       " 0.868420          -0.121786           -0.10791          -0.073256   \n",
       " 0.868438          -0.121786           -0.10791          -0.073256   \n",
       " 0.868456          -0.121786           -0.10791          -0.073256   \n",
       "\n",
       "           CAMEO_DEU_2015_9B  CAMEO_DEU_2015_9C  CAMEO_DEU_2015_9D  \\\n",
       "LNR                                                                  \n",
       "-1.558070          -0.069338          -0.071949           -0.10157   \n",
       "-1.558034          -0.069338          -0.071949           -0.10157   \n",
       " 0.868420          -0.069338          -0.071949           -0.10157   \n",
       " 0.868438          -0.069338          -0.071949           -0.10157   \n",
       " 0.868456          -0.069338          -0.071949           -0.10157   \n",
       "\n",
       "           CAMEO_DEU_2015_9E  OST_WEST_KZ_O  OST_WEST_KZ_W  \n",
       "LNR                                                         \n",
       "-1.558070          -0.089055      -0.250816       0.250816  \n",
       "-1.558034          -0.089055      -0.250816       0.250816  \n",
       " 0.868420          -0.089055      -0.250816       0.250816  \n",
       " 0.868438          -0.089055      -0.250816       0.250816  \n",
       " 0.868456          -0.089055      -0.250816       0.250816  \n",
       "\n",
       "[5 rows x 404 columns]"
      ]
     },
     "execution_count": 8,
     "metadata": {},
     "output_type": "execute_result"
    }
   ],
   "source": [
    "scaled_customers.head()"
   ]
  },
  {
   "cell_type": "code",
   "execution_count": null,
   "metadata": {},
   "outputs": [],
   "source": []
  }
 ],
 "metadata": {
  "kernelspec": {
   "display_name": "Python 3",
   "language": "python",
   "name": "python3"
  },
  "language_info": {
   "codemirror_mode": {
    "name": "ipython",
    "version": 3
   },
   "file_extension": ".py",
   "mimetype": "text/x-python",
   "name": "python",
   "nbconvert_exporter": "python",
   "pygments_lexer": "ipython3",
   "version": "3.7.7"
  }
 },
 "nbformat": 4,
 "nbformat_minor": 4
}
