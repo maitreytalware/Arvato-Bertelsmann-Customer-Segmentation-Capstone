{
 "cells": [
  {
   "cell_type": "markdown",
   "metadata": {},
   "source": [
    "# Part 1: Customer Segmentation Report\n",
    "\n",
    "The main bulk of your analysis will come in this part of the project. Here, you should use unsupervised learning techniques to describe the relationship between the demographics of the company's existing customers and the general population of Germany. By the end of this part, you should be able to describe parts of the general population that are more likely to be part of the mail-order company's main customer base, and which parts of the general population are less so.\n",
    "\n",
    "Reference : https://365datascience.com/pca-k-means/"
   ]
  },
  {
   "cell_type": "code",
   "execution_count": 107,
   "metadata": {},
   "outputs": [],
   "source": [
    "# import libraries here; add more as necessary\n",
    "import numpy as np\n",
    "import pandas as pd\n",
    "import matplotlib.pyplot as plt\n",
    "import seaborn as sns\n",
    "from sklearn.cluster import KMeans\n",
    "from sklearn.decomposition import PCA\n",
    "import pickle\n",
    "# magic word for producing visualizations in notebook\n",
    "%matplotlib inline"
   ]
  },
  {
   "cell_type": "code",
   "execution_count": 3,
   "metadata": {},
   "outputs": [],
   "source": [
    "# Loading our preprocessed data from part 0\n",
    "# scaled_azdias=pd.read_pickle(\"scaled_azdias.pkl\")\n",
    "# scaled_customers=pd.read_pickle(\"scaled_customers.pkl\")"
   ]
  },
  {
   "cell_type": "code",
   "execution_count": 4,
   "metadata": {
    "scrolled": true
   },
   "outputs": [
    {
     "name": "stderr",
     "output_type": "stream",
     "text": [
      "/Users/maitreytalware/opt/anaconda3/lib/python3.7/site-packages/IPython/core/interactiveshell.py:3063: DtypeWarning: Columns (18,19) have mixed types.Specify dtype option on import or set low_memory=False.\n",
      "  interactivity=interactivity, compiler=compiler, result=result)\n"
     ]
    },
    {
     "name": "stdout",
     "output_type": "stream",
     "text": [
      "Shape before (891221, 366)\n",
      "{'D19_LETZTER_KAUF_BRANCHE', 'CAMEO_DEU_2015', 'CAMEO_DEUG_2015', 'CAMEO_INTL_2015', 'OST_WEST_KZ', 'EINGEFUEGT_AM'}\n",
      "shape after corr (744305, 252)\n",
      "Number of nan Values 0\n",
      "shape after (744305, 297)\n",
      "Shape before (191652, 369)\n",
      "{'D19_LETZTER_KAUF_BRANCHE', 'CAMEO_DEU_2015', 'CAMEO_DEUG_2015', 'CAMEO_INTL_2015', 'OST_WEST_KZ', 'EINGEFUEGT_AM'}\n",
      "shape after corr (191652, 257)\n",
      "Number of nan Values 0\n",
      "shape after (191652, 302)\n"
     ]
    }
   ],
   "source": [
    "azdias = pd.read_csv('Udacity_AZDIAS_052018.csv', sep=';')\n",
    "customers = pd.read_csv('Udacity_CUSTOMERS_052018.csv', sep=';')\n",
    "ambiguity_10=['WOHNDAUER_2008', 'KKK', 'W_KEIT_KIND_HH', 'ALTERSKATEGORIE_GROB', 'NATIONALITAET_KZ', 'PRAEGENDE_JUGENDJAHRE', 'KBA05_GBZ', 'TITEL_KZ', 'REGIOTYP', 'KBA05_BAUMAX', 'HH_EINKOMMEN_SCORE', 'GEBAEUDETYP', 'ANREDE_KZ']\n",
    "ambiguity_90=['KBA05_HERST1', 'KBA05_ALTER4', 'KBA05_SEG3', 'SEMIO_KRIT', 'KBA05_KRSKLEIN', 'KBA05_MOD4', 'KBA05_HERST5', 'KBA05_SEG4', 'KBA05_ZUL3', 'KBA05_ZUL4', 'SEMIO_PFLICHT', 'KBA05_KRSZUL', 'KBA05_FRAU', 'KBA05_KRSAQUOT', 'KBA05_MAXBJ', 'KBA05_ZUL1', 'KBA05_MOTOR', 'KBA05_KW3', 'KBA05_MAXAH', 'KBA05_MOD3', 'SEMIO_SOZ', 'KBA05_MODTEMP', 'KBA05_SEG1', 'KBA05_SEG9', 'SEMIO_FAM', 'SEMIO_KAEM', 'KBA05_ALTER1', 'KBA05_DIESEL', 'KBA05_HERST4', 'KBA05_MAXSEG', 'KBA05_MOTRAD', 'RELAT_AB', 'SEMIO_ERL', 'KBA05_MOD2', 'KBA05_VORB0', 'KBA05_VORB2', 'KBA05_ALTER3', 'KBA05_KW2', 'KBA05_ANHANG', 'KBA05_MOD8', 'KBA05_SEG6', 'KBA05_SEG5', 'KBA05_KRSOBER', 'KBA05_AUTOQUOT', 'KBA05_ALTER2', 'SEMIO_VERT', 'KBA05_KW1', 'KBA05_SEG8', 'KBA05_VORB1', 'ZABEOTYP', 'KBA05_KRSHERST3', 'KBA05_SEG10', 'KBA05_CCM4', 'SEMIO_LUST', 'KBA05_KRSHERST1', 'KBA05_KRSVAN', 'KBA05_MAXHERST', 'KBA05_SEG7', 'SEMIO_RAT', 'KBA05_CCM3', 'KBA05_CCM1', 'KBA05_CCM2', 'KBA05_ZUL2', 'KBA05_MAXVORB', 'KBA05_SEG2', 'KBA05_KRSHERST2', 'SEMIO_KULT', 'KBA05_HERSTTEMP', 'SEMIO_REL', 'SEMIO_DOM', 'SEMIO_TRADV', 'KBA05_HERST3', 'KBA05_HERST2', 'KBA05_MOD1', 'SEMIO_MAT']\n",
    "from sklearn.preprocessing import StandardScaler\n",
    "def preprocess(df,name=None):\n",
    "    print(\"Shape before\",df.shape)\n",
    "    if name=='customers':\n",
    "        df=df.drop(['PRODUCT_GROUP','CUSTOMER_GROUP','ONLINE_PURCHASE'],axis=1)\n",
    "    \n",
    "    if name=='azdias':\n",
    "        df=df[df.isnull().sum(axis=1)<=20].reset_index(drop=True)\n",
    "    # finding numeric and categorical columns\n",
    "\n",
    "    Numeric_columns=df.select_dtypes(include=np.number).columns.tolist()\n",
    "    categorical_col=set(df.columns).difference(set(Numeric_columns))\n",
    "    # numeric cols to numeric\n",
    "    print(categorical_col)\n",
    "    df[Numeric_columns]=df[Numeric_columns].apply(pd.to_numeric)\n",
    "    # drop columns to avoid lot of columns\n",
    "    df=df.drop('D19_LETZTER_KAUF_BRANCHE',axis=1)\n",
    "    df=df.drop('EINGEFUEGT_AM',axis=1)\n",
    "    df=df.drop(['ALTER_KIND4', 'ALTER_KIND3', 'ALTER_KIND2', 'ALTER_KIND1'],axis=1)\n",
    "\n",
    "    \n",
    "    df[['CAMEO_DEUG_2015','CAMEO_INTL_2015','CAMEO_DEU_2015']]=df[['CAMEO_DEUG_2015','CAMEO_INTL_2015','CAMEO_DEU_2015']].replace(['X','XX'],-1)\n",
    "    df[['CAMEO_DEUG_2015','CAMEO_INTL_2015']]=df[['CAMEO_DEUG_2015','CAMEO_INTL_2015']].apply(pd.to_numeric)\n",
    "    #\n",
    "\n",
    "    df[ambiguity_10]=df[ambiguity_10].replace(0,-1)\n",
    "    df[ambiguity_90]=df[ambiguity_90].replace(9,-1)\n",
    "    \n",
    "    # find correlation matrix    \n",
    "    corr_matrix = df.corr().abs()\n",
    "    upper_limit = corr_matrix.where(np.triu(np.ones(corr_matrix.shape), k=1).astype(np.bool))\n",
    "    # identify columns to drop based on threshold limit\n",
    "    drop_columns = [column for column in upper_limit.columns if any(upper_limit[column] > .7)]\n",
    "    # drop columns from df\n",
    "    df = df.drop(drop_columns, axis=1)\n",
    "    print('shape after corr', df.shape)\n",
    "    \n",
    "    \n",
    "    df=df.fillna(df.mode().iloc[0])\n",
    "    print(\"Number of nan Values\",df.isna().sum().sum())\n",
    "    df=pd.get_dummies(df)\n",
    "    \n",
    "    scaler = StandardScaler()\n",
    "    df[df.columns] = scaler.fit_transform(df)\n",
    "    print(\"shape after\",df.shape)\n",
    "    df = df.set_index('LNR')\n",
    "    return df\n",
    "scaled_azdias=preprocess(azdias,'azdias')\n",
    "scaled_customers=preprocess(customers,'customers')"
   ]
  },
  {
   "cell_type": "code",
   "execution_count": 11,
   "metadata": {},
   "outputs": [],
   "source": [
    "# scaled_azdias.to_pickle(\"scaled_azdias.pkl\")\n",
    "# scaled_customers.to_pickle(\"scaled_customers.pkl\")"
   ]
  },
  {
   "cell_type": "markdown",
   "metadata": {},
   "source": [
    "## Dimensionality Reduction\n",
    "There are varying reasons for using a dimensionality reduction step such as PCA prior to data segmentation. \n",
    "- By reducing the number of features, we’re improving the performance of our algorithm. \n",
    "- On top of that, by decreasing the number of features the noise is also reduced."
   ]
  },
  {
   "cell_type": "code",
   "execution_count": 5,
   "metadata": {},
   "outputs": [
    {
     "data": {
      "text/plain": [
       "PCA(copy=True, iterated_power='auto', n_components=None, random_state=None,\n",
       "    svd_solver='auto', tol=0.0, whiten=False)"
      ]
     },
     "execution_count": 5,
     "metadata": {},
     "output_type": "execute_result"
    }
   ],
   "source": [
    "pca=PCA()\n",
    "pca.fit(scaled_azdias)"
   ]
  },
  {
   "cell_type": "code",
   "execution_count": 6,
   "metadata": {},
   "outputs": [
    {
     "data": {
      "text/plain": [
       "array([0.05967456, 0.0413776 , 0.03144057, 0.02616301, 0.02454831,\n",
       "       0.02210576])"
      ]
     },
     "execution_count": 6,
     "metadata": {},
     "output_type": "execute_result"
    }
   ],
   "source": [
    "pca.explained_variance_ratio_[:6]"
   ]
  },
  {
   "cell_type": "code",
   "execution_count": 7,
   "metadata": {},
   "outputs": [
    {
     "data": {
      "image/png": "[encoded data removed]",
      "text/plain": [
       "<Figure size 720x576 with 1 Axes>"
      ]
     },
     "metadata": {
      "needs_background": "light"
     },
     "output_type": "display_data"
    }
   ],
   "source": [
    "plt.figure(figsize=(10,8))\n",
    "plt.plot(pca.explained_variance_ratio_.cumsum(),marker='o',linestyle='--')\n",
    "plt.title(\"Exaplained Variance by Components\")\n",
    "plt.xlabel(\"Number of Component\")\n",
    "plt.ylabel(\"Cummulative Explained Variance\")\n",
    "plt.show()"
   ]
  },
  {
   "cell_type": "markdown",
   "metadata": {},
   "source": [
    "**Note :** Rule of thumb is to preserve almost 80 % of the variance so we will decide to keep x Component"
   ]
  },
  {
   "cell_type": "code",
   "execution_count": 8,
   "metadata": {},
   "outputs": [],
   "source": [
    "def reduce_component(df,n=250):\n",
    "    pca = PCA(n_components=n).fit(df)\n",
    "    reduced_data = pca.transform(df)\n",
    "    reduced_data = pd.DataFrame(reduced_data)\n",
    "    print(pca.explained_variance_ratio_.sum())\n",
    "    return reduced_data"
   ]
  },
  {
   "cell_type": "code",
   "execution_count": 9,
   "metadata": {
    "scrolled": false
   },
   "outputs": [
    {
     "name": "stdout",
     "output_type": "stream",
     "text": [
      "0.9752386259216527\n",
      "0.9716863419733648\n"
     ]
    }
   ],
   "source": [
    "pca_azdias = reduce_component(scaled_azdias)\n",
    "pca_customers = reduce_component(scaled_customers)"
   ]
  },
  {
   "cell_type": "code",
   "execution_count": 12,
   "metadata": {},
   "outputs": [],
   "source": [
    "# pca_azdias.to_pickle(\"pca_azdias.pkl\")\n",
    "# pca_customers.to_pickle(\"pca_customers.pkl\")"
   ]
  },
  {
   "cell_type": "code",
   "execution_count": 13,
   "metadata": {},
   "outputs": [
    {
     "name": "stdout",
     "output_type": "stream",
     "text": [
      "(744305, 250)\n",
      "(191652, 250)\n"
     ]
    }
   ],
   "source": [
    "# shape of reduced components\n",
    "print(pca_azdias.shape)\n",
    "print(pca_customers.shape)"
   ]
  },
  {
   "cell_type": "markdown",
   "metadata": {},
   "source": [
    "## K - means clustering with PCA"
   ]
  },
  {
   "cell_type": "markdown",
   "metadata": {},
   "source": [
    "**We need to determine the number of cluster** \n",
    "\n",
    "In order to do so, we run the algorithm with a different number of clusters. Then, we determine the Within Cluster Sum of Squares or WCSS for each solution. Based on the values of the WCSS and an approach known as the Elbow method, we make a decision about how many clusters we’d like to keep.\n",
    "\n",
    "In our case, we test an algorithm with up to 20 clusters."
   ]
  },
  {
   "cell_type": "code",
   "execution_count": 18,
   "metadata": {},
   "outputs": [],
   "source": [
    "#taking too much time have to sample of data to compute this\n",
    "# wcss=[]\n",
    "# for i in range(1,21):\n",
    "#     kmeans_pca=KMeans(n_clusters=i,init='k-means++',random_state=42)\n",
    "#     kmeans_pca.fit(pca_azdias)\n",
    "#     wcss.append(kmeans_pca.inertia_)"
   ]
  },
  {
   "cell_type": "code",
   "execution_count": 36,
   "metadata": {},
   "outputs": [],
   "source": [
    "pca_azdias_sample=pca_azdias.sample(20000)"
   ]
  },
  {
   "cell_type": "code",
   "execution_count": 37,
   "metadata": {},
   "outputs": [],
   "source": [
    "wcss=[]\n",
    "score=[]\n",
    "for i in range(1,21):\n",
    "    #print(i)\n",
    "    kmeans_pca=KMeans(n_clusters=i,init='k-means++',random_state=42)\n",
    "    model=kmeans_pca.fit(pca_azdias_sample)\n",
    "    wcss.append(model.inertia_)"
   ]
  },
  {
   "cell_type": "markdown",
   "metadata": {},
   "source": [
    "Ploting the wcss againts the number of component"
   ]
  },
  {
   "cell_type": "code",
   "execution_count": 38,
   "metadata": {},
   "outputs": [
    {
     "data": {
      "image/png": "[encoded data removed]",
      "text/plain": [
       "<Figure size 1008x432 with 1 Axes>"
      ]
     },
     "metadata": {
      "needs_background": "light"
     },
     "output_type": "display_data"
    }
   ],
   "source": [
    "plt.figure(figsize=(14,6))\n",
    "plt.plot(range(1,21),wcss,marker='o',linestyle='--')\n",
    "plt.xlabel('Number of clusters')\n",
    "plt.ylabel('WCSS')\n",
    "plt.title('K-means with PCA Clustering')\n",
    "plt.show()"
   ]
  },
  {
   "cell_type": "markdown",
   "metadata": {},
   "source": [
    "From this graph, we determine the **number of clusters** we’d like to keep. To that effect, we use the Elbow-method. The approach consists of looking for a kink or elbow in the WCSS graph. Usually, the part of the graph before the elbow would be steeply declining, while the part after it – much smoother"
   ]
  },
  {
   "cell_type": "markdown",
   "metadata": {},
   "source": [
    "# Selecting K as"
   ]
  },
  {
   "cell_type": "code",
   "execution_count": 102,
   "metadata": {},
   "outputs": [],
   "source": [
    "kmeans_K = KMeans(5)\n",
    "model_k = kmeans_K.fit(pca_azdias)\n",
    "prediction_azdias = model_k.predict(pca_azdias)\n",
    "prediction_customers = model_k.predict(pca_customers)"
   ]
  },
  {
   "cell_type": "code",
   "execution_count": 108,
   "metadata": {},
   "outputs": [],
   "source": [
    "# filename = 'model_k.sav'\n",
    "# pickle.dump(model_k, open(filename, 'wb'))"
   ]
  },
  {
   "cell_type": "code",
   "execution_count": 103,
   "metadata": {},
   "outputs": [],
   "source": [
    "# azdias_clustered = pd.DataFrame(prediction_azdias, columns = ['Cluster'])\n",
    "# customers_clustered = pd.DataFrame(prediction_customers, columns = ['Cluster'])"
   ]
  },
  {
   "cell_type": "code",
   "execution_count": 104,
   "metadata": {},
   "outputs": [
    {
     "data": {
      "text/html": [
       "<div>\n",
       "<style scoped>\n",
       "    .dataframe tbody tr th:only-of-type {\n",
       "        vertical-align: middle;\n",
       "    }\n",
       "\n",
       "    .dataframe tbody tr th {\n",
       "        vertical-align: top;\n",
       "    }\n",
       "\n",
       "    .dataframe thead th {\n",
       "        text-align: right;\n",
       "    }\n",
       "</style>\n",
       "<table border=\"1\" class=\"dataframe\">\n",
       "  <thead>\n",
       "    <tr style=\"text-align: right;\">\n",
       "      <th></th>\n",
       "      <th>Cluster</th>\n",
       "      <th>WholePop</th>\n",
       "      <th>Customers</th>\n",
       "      <th>population_percent</th>\n",
       "      <th>customer_percent</th>\n",
       "    </tr>\n",
       "  </thead>\n",
       "  <tbody>\n",
       "    <tr>\n",
       "      <th>0</th>\n",
       "      <td>0</td>\n",
       "      <td>111016</td>\n",
       "      <td>42802</td>\n",
       "      <td>14.92</td>\n",
       "      <td>22.33</td>\n",
       "    </tr>\n",
       "    <tr>\n",
       "      <th>1</th>\n",
       "      <td>1</td>\n",
       "      <td>13823</td>\n",
       "      <td>166</td>\n",
       "      <td>1.86</td>\n",
       "      <td>0.09</td>\n",
       "    </tr>\n",
       "    <tr>\n",
       "      <th>2</th>\n",
       "      <td>2</td>\n",
       "      <td>167555</td>\n",
       "      <td>33988</td>\n",
       "      <td>22.51</td>\n",
       "      <td>17.73</td>\n",
       "    </tr>\n",
       "    <tr>\n",
       "      <th>3</th>\n",
       "      <td>3</td>\n",
       "      <td>234627</td>\n",
       "      <td>60278</td>\n",
       "      <td>31.52</td>\n",
       "      <td>31.45</td>\n",
       "    </tr>\n",
       "    <tr>\n",
       "      <th>4</th>\n",
       "      <td>4</td>\n",
       "      <td>217284</td>\n",
       "      <td>54418</td>\n",
       "      <td>29.19</td>\n",
       "      <td>28.39</td>\n",
       "    </tr>\n",
       "  </tbody>\n",
       "</table>\n",
       "</div>"
      ],
      "text/plain": [
       "   Cluster  WholePop  Customers  population_percent  customer_percent\n",
       "0        0    111016      42802               14.92             22.33\n",
       "1        1     13823        166                1.86              0.09\n",
       "2        2    167555      33988               22.51             17.73\n",
       "3        3    234627      60278               31.52             31.45\n",
       "4        4    217284      54418               29.19             28.39"
      ]
     },
     "execution_count": 104,
     "metadata": {},
     "output_type": "execute_result"
    }
   ],
   "source": [
    "(unique_pop, counts_pop) = np.unique(prediction_azdias, return_counts=True)\n",
    "frequencies_pop = np.asarray((unique_pop, counts_pop)).T\n",
    "pop=pd.DataFrame(frequencies_pop,columns=['Cluster','WholePop'])\n",
    "\n",
    "(unique_cus, counts_cus) = np.unique(prediction_customers, return_counts=True)\n",
    "frequencies_cus = np.asarray((unique_cus, counts_cus)).T\n",
    "cus=pd.DataFrame(frequencies_cus,columns=['Cluster','Customers'])\n",
    "\n",
    "df_info = pd.merge(pop,cus,on=\"Cluster\")\n",
    "\n",
    "df_info['population_percent'] = (df_info['WholePop']/df_stat['WholePop'].sum()*100).round(2)\n",
    "df_info['customer_percent'] = (df_info['Customers']/df_stat['Customers'].sum()*100).round(2)\n",
    "df_info"
   ]
  },
  {
   "cell_type": "code",
   "execution_count": 105,
   "metadata": {},
   "outputs": [
    {
     "data": {
      "image/png": "[encoded data removed]",
      "text/plain": [
       "<Figure size 1080x576 with 1 Axes>"
      ]
     },
     "metadata": {
      "needs_background": "light"
     },
     "output_type": "display_data"
    }
   ],
   "source": [
    "plt.figure(figsize=(15,8))\n",
    "# set width of bar\n",
    "barWidth = 0.25\n",
    "# set height of bar\n",
    "bars1 = df_info['population_percent']\n",
    "bars2 = df_info['customer_percent']\n",
    "label=df_info['Cluster']\n",
    "# Set position of bar on X axis\n",
    "r1 = np.arange(len(bars1))\n",
    "r2 = [x + barWidth for x in r1]\n",
    " \n",
    "# Make the plot\n",
    "plt.bar(r1, bars1, width=barWidth, edgecolor='white')\n",
    "plt.bar(r2, bars2, width=barWidth, edgecolor='white')\n",
    "\n",
    " \n",
    "# Add xticks on the middle of the group bars\n",
    "plt.xlabel('Cluster')\n",
    "plt.ylabel('Percentage')\n",
    "plt.xticks([r + barWidth/2 for r in range(len(bars1))], label)\n",
    " \n",
    "# Create legend & Show graphic\n",
    "plt.legend(('Gen Population', 'Customer'),fontsize=15)\n",
    "plt.title(('Ratio of Gen Population Vs Customer segments as % of total per cluster'))\n",
    "plt.show()"
   ]
  },
  {
   "cell_type": "markdown",
   "metadata": {},
   "source": [
    "### we can see the order which we can find customers -> \n",
    "- cluster 3\n",
    "- cluster 4\n",
    "- cluster 0\n",
    "- cluster 1"
   ]
  },
  {
   "cell_type": "code",
   "execution_count": null,
   "metadata": {},
   "outputs": [],
   "source": []
  }
 ],
 "metadata": {
  "kernelspec": {
   "display_name": "Python 3",
   "language": "python",
   "name": "python3"
  },
  "language_info": {
   "codemirror_mode": {
    "name": "ipython",
    "version": 3
   },
   "file_extension": ".py",
   "mimetype": "text/x-python",
   "name": "python",
   "nbconvert_exporter": "python",
   "pygments_lexer": "ipython3",
   "version": "3.7.7"
  }
 },
 "nbformat": 4,
 "nbformat_minor": 4
}
